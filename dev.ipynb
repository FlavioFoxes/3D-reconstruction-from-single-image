{
 "cells": [
  {
   "cell_type": "code",
   "execution_count": 5,
   "metadata": {},
   "outputs": [],
   "source": [
    "import os\n",
    "\n"
   ]
  },
  {
   "cell_type": "code",
   "execution_count": 2,
   "metadata": {},
   "outputs": [
    {
     "name": "stderr",
     "output_type": "stream",
     "text": [
      "sh: 1: cd: can't cd to /home/flavio/home/Documenti/Datasets/ShapeNetCore/\n"
     ]
    },
    {
     "data": {
      "text/plain": [
       "['.gitignore', '.git', 'README.md', 'dev.ipynb']"
      ]
     },
     "execution_count": 2,
     "metadata": {},
     "output_type": "execute_result"
    }
   ],
   "source": [
    "os.system(\"cd \"+SHAPES_PATH)\n",
    "os.listdir()"
   ]
  },
  {
   "cell_type": "code",
   "execution_count": 6,
   "metadata": {},
   "outputs": [],
   "source": [
    "import os\n",
    "import shutil\n",
    "\n",
    "# Define the main folders\n",
    "SHAPES_PATH = '~/Documenti/Datasets/ShapeNetCore/'\n",
    "IMAGES_PATH = '~/Documenti/Datasets/image/'\n",
    "\n",
    "# Iterate over the folders in the Images directory\n",
    "for root, dirs, files in os.walk(IMAGES_PATH):\n",
    "    print(root)\n",
    "    for directory in dirs:\n",
    "        # Check if the directory exists in Shapes\n",
    "        shapes_subfolder_path = os.path.join(SHAPES_PATH, root[len(IMAGES_PATH) + 1:], directory)\n",
    "        if os.path.exists(shapes_subfolder_path):\n",
    "            # Move the directory from Images to Shapes\n",
    "            destination = os.path.join(shapes_subfolder_path, \"example\")\n",
    "            #shutil.move(os.path.join(root, directory), destination)\n",
    "            shutil.copytree(os.path.join(root, directory), destination)\n",
    "            print(f\"Moved '{directory}' from 'Images' to 'Shapes/{root[len(IMAGES_PATH) + 1:]}'\")\n",
    "\n",
    "        # If you want to copy instead of move, use the following line instead of the above shutil.move line:\n",
    "        # shutil.copytree(os.path.join(root, directory), destination)\n"
   ]
  },
  {
   "cell_type": "code",
   "execution_count": 3,
   "metadata": {},
   "outputs": [
    {
     "name": "stdout",
     "output_type": "stream",
     "text": [
      "Not Readable\n"
     ]
    }
   ],
   "source": [
    "if os.access(SHAPES_PATH, os.R_OK):\n",
    "    print(\"Readable\")\n",
    "else:\n",
    "    print(\"Not Readable\")"
   ]
  }
 ],
 "metadata": {
  "kernelspec": {
   "display_name": "open3d",
   "language": "python",
   "name": "python3"
  },
  "language_info": {
   "codemirror_mode": {
    "name": "ipython",
    "version": 3
   },
   "file_extension": ".py",
   "mimetype": "text/x-python",
   "name": "python",
   "nbconvert_exporter": "python",
   "pygments_lexer": "ipython3",
   "version": "3.8.18"
  }
 },
 "nbformat": 4,
 "nbformat_minor": 2
}
